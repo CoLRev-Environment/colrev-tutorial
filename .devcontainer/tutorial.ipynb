{
 "cells": [
  {
   "cell_type": "markdown",
   "id": "0ff7b136",
   "metadata": {},
   "source": [
    "# CoLRev Tutorial\n",
    "\n",
    "[![Offered by: Digital Work at Otto-Friedrich-Universität Bamberg](https://img.shields.io/badge/Offered%20by-%20Digital%20Work%20(Otto--Friedrich--Universit%C3%A4t%20Bamberg)-blue)](https://digital-work-lab.github.io/open-source-project/)\n",
    "![License: CC BY 4.0](https://img.shields.io/badge/License-CC%20BY%204.0-green.svg)\n",
    "\n",
    "<p style=\"max-width: 800px; margin-left: 0; margin-right: 0; text-align: justify;\">We  <img src=\"img/iconmonstr-favorite-2.svg\" alt=\"Edit\" width=\"12\" height=\"12\">  your <a href=\"https://github.com/CoLRev-Environment/colrev-tutorial/issues/new/choose\" target=\"_blank\">feedback</a> and <a href=\"https://github.com/CoLRev-Environment/colrev-tutorial/issues/edit/main/.devcontainer/tutorial.ipynb\" target=\"_blank\">suggestions</a> on this notebook!</p>\n",
    "\n",
    "---"
   ]
  },
  {
   "cell_type": "markdown",
   "id": "73e5334c",
   "metadata": {},
   "source": [
    "<p style=\"max-width: 800px; margin-left: 0; margin-right: 0; text-align: justify;\">The goal of this repository on GitHub codespaces is to demonstrate the CoLRev workflow.</p>\n",
    "\n",
    "| Part | Label                         | Time (min) |\n",
    "|------|-------------------------------| ---------- |\n",
    "|  1   | [Init](#init)                 | 5          |\n",
    "|  2   | [Search](#search)             | 15         |\n",
    "|  3   | [Screen](#screen)             | 15         |\n",
    "|  4   | [Data](#data)                 | 10         |\n",
    "|  5   | [Bonus](#bonus)               |            |\n",
    "|      | **Overall**                   | **45**     |\n",
    "\n",
    "<br>\n",
    "\n",
    "---"
   ]
  },
  {
   "cell_type": "markdown",
   "id": "01092277",
   "metadata": {},
   "source": [
    "<p style=\"max-width: 800px; margin-left: 0; margin-right: 0; text-align: justify;\"><div style=\"border: 2px solid #ff9800; padding: 10px; background-color: #ffe0b2; color: #e65100; border-radius: 5px; display: inline-block; max-width: 800px; width: 100%;\">\n",
    "    <strong>Important:</strong> Please run all of the following commands in the shell as shown in the screenshot.\n",
    "    <div style=\"clear: both;\"></div>\n",
    "    <img src=\"img/codespace_shell.png\" style=\"max-width: 100%; border-radius: 5px;\">\n",
    "</div></p>"
   ]
  },
  {
   "cell_type": "markdown",
   "id": "e21c485c",
   "metadata": {},
   "source": [
    "# Installation\n",
    "\n",
    "<p style=\"max-width: 800px; margin-left: 0; margin-right: 0; text-align: justify;\">CoLRev is pre-installed, but CoLRev packages must be installed:</p>"
   ]
  },
  {
   "cell_type": "code",
   "execution_count": null,
   "id": "992e50c8",
   "metadata": {},
   "outputs": [],
   "source": [
    "colrev install all_internal_packages"
   ]
  },
  {
   "cell_type": "markdown",
   "id": "e92de243",
   "metadata": {},
   "source": [
    "<p style=\"max-width: 800px; margin-left: 0; margin-right: 0; text-align: justify;\"><details><summary {style='color:green;font-weight:bold'}>Check</summary></p>\n",
    "\n",
    "**Running the installation should look like this:**\n",
    "\n",
    "<img src=\"img/install_packages.gif\" style=\"width: 800px;\" alt=\"Demo\"/>\n",
    "\n",
    "</details>"
   ]
  },
  {
   "cell_type": "markdown",
   "id": "8e210c13",
   "metadata": {},
   "source": [
    "<p style=\"max-width: 800px; margin-left: 0; margin-right: 0; text-align: justify;\">Before creating a new CoLRev project, we need an empty directory:</p>"
   ]
  },
  {
   "cell_type": "code",
   "execution_count": null,
   "id": "842c2bf0",
   "metadata": {},
   "outputs": [],
   "source": [
    "rm README.md"
   ]
  },
  {
   "cell_type": "markdown",
   "id": "abdf3565",
   "metadata": {},
   "source": [
    "# 1. Init <a id=\"init\"></a>\n",
    "\n",
    "<p style=\"max-width: 800px; margin-left: 0; margin-right: 0; text-align: justify;\">To get started, simply type `colrev init` on the command line and press `Enter`</p>"
   ]
  },
  {
   "cell_type": "code",
   "execution_count": null,
   "id": "65635a25",
   "metadata": {},
   "outputs": [],
   "source": [
    "colrev init"
   ]
  },
  {
   "cell_type": "markdown",
   "id": "b3b33c1f",
   "metadata": {},
   "source": [
    "<p style=\"max-width: 800px; margin-left: 0; margin-right: 0; text-align: justify;\">`colrev init` initializes a new CoLRev project. With this operation, the directories and files, including the git history, are set up. For more information check the  <a href=\\\"https://colrev-environment.github.io/colrev/manual/problem_formulation/init.html\\\">documentation.</a>)</p>\n",
    "\n",
    "<p style=\"max-width: 800px; margin-left: 0; margin-right: 0; text-align: justify;\"><b>Notes:</b></p>\n",
    "\n",
    "<p style=\"max-width: 800px; margin-left: 0; margin-right: 0; text-align: justify;\">- Check out the folder scaffold being created on the left</p>\n",
    "<p style=\"max-width: 800px; margin-left: 0; margin-right: 0; text-align: justify;\">- You can specify a particular <a href=\\\"https://colrev-environment.github.io/colrev/manual/problem_formulation/init.html\\\">review type</a> by running `colrev init --type REVIEW_TYPE`</p>\n",
    "<p style=\"max-width: 800px; margin-left: 0; margin-right: 0; text-align: justify;\">- When starting the project, it is good practice to use the `data/data/paper.md` as a protocol</p>\n",
    "<p style=\"max-width: 800px; margin-left: 0; margin-right: 0; text-align: justify;\">- You can always add `--help` to the following commands to display more information (e.g., `colrev init --help`).</p>\n",
    "\n",
    "<p style=\"max-width: 800px; margin-left: 0; margin-right: 0; text-align: justify;\">It is good practice to run `colrev status` regularly to assess the current progress of the review and  identify the next steps:</p>"
   ]
  },
  {
   "cell_type": "code",
   "execution_count": null,
   "id": "9ff157d0",
   "metadata": {},
   "outputs": [],
   "source": [
    "colrev status"
   ]
  },
  {
   "cell_type": "markdown",
   "id": "cd294dff",
   "metadata": {},
   "source": [
    "# 2. Search <a id=\"search\"></a>\n",
    "\n",
    "<p style=\"max-width: 800px; margin-left: 0; margin-right: 0; text-align: justify;\">To add records the `colrev search` command can be used.</p>"
   ]
  },
  {
   "cell_type": "code",
   "execution_count": null,
   "id": "ec0ad278",
   "metadata": {},
   "outputs": [],
   "source": [
    "colrev search --add"
   ]
  },
  {
   "cell_type": "markdown",
   "id": "ae5d9d63",
   "metadata": {},
   "source": [
    "<p style=\"max-width: 800px; margin-left: 0; margin-right: 0; text-align: justify;\">Use `colrev search --add` to add searches of the <b>Crossref</b> API and the <b>DBLP</b> API, using the search term `microsourcing`.</p>\n",
    "\n",
    "<!-- \n",
    "`colrev search --add` adds a SearchSource to the project settings and record metadata are retrieved. SearchSources keep track of the associated queries, as well as the search results files. CoLRev includes serveral types of SearchSources such as, for example, traditional database searches, API-based searches, or backward and forward searches. For more information check the [documentation](https://colrev-environment.github.io/colrev/manual/metadata_retrieval/search.html).\n",
    "\n",
    "1. Add ACM Digital Library as our first search source:\n",
    "```\n",
    "colrev search --add colrev.acm_digital_library\n",
    "```\n",
    "\n",
    "ACM Digital Library can only be searched manually via a database search. Follow the instructions provided or go to the [search](https://dl.acm.org/action/doSearch?fillQuickSearch=false&target=advanced&expand=all&AllField=Title%3A%28microsourcing%29+OR+Abstract%3A%28microsourcing%29+OR+Keyword%3A%28microsourcing%29), select all records, click export, save the search query in `data/search/acm_digital_library_query.txt`, upload the export to `data/search/acm_digital_library.bib`, and press `Enter`.\n",
    "\n",
    "2. Add AIS library as our second search source:\n",
    "\n",
    "```\n",
    "colrev search --add colrev.ais_library\n",
    "```\n",
    "\n",
    "Select SearchType API and paste the following as the search query to search for microsourcing in titles, abstracts, and keywords: `title:microsourcing OR abstract:microsourcing OR subject:microsourcing`\n",
    "-->\n",
    "\n",
    "<p style=\"max-width: 800px; margin-left: 0; margin-right: 0; text-align: justify;\">After the search, continue with the following commands:</p>"
   ]
  },
  {
   "cell_type": "code",
   "execution_count": null,
   "id": "cb3cd8f1",
   "metadata": {},
   "outputs": [],
   "source": [
    "colrev load\n",
    "colrev prep\n",
    "colrev dedupe"
   ]
  },
  {
   "cell_type": "markdown",
   "id": "b484149c",
   "metadata": {},
   "source": [
    "<p style=\"max-width: 800px; margin-left: 0; margin-right: 0; text-align: justify;\">- In the `colrev load` operation, search results are added to the main records. Records from the search result files are identified based on unique origin IDs and added to the main records file (`data/records.bib`). For more information check the <a href=\\\"https://colrev-environment.github.io/colrev/manual/metadata_retrieval/load.html\\\">documentation</a>.</p>\n",
    "<p style=\"max-width: 800px; margin-left: 0; margin-right: 0; text-align: justify;\">- In the `colrev prep` operation, metadata quality of records is improved. Preparation procedures include general formatting rules, SearchSource-specific fixes, and cross-checks with metadata repositories and curated CoLRev repositories. For more information check the <a href=\\\"https://colrev-environment.github.io/colrev/manual/metadata_retrieval/prep.html\\\">documentation</a>.</p>\n",
    "<p style=\"max-width: 800px; margin-left: 0; margin-right: 0; text-align: justify;\">- In the `colrev dedupe` operation, duplicate records are identified and merged. The predecessors of a merged record can be identified through the colrev_origin list field in `data/records.bib`, enabling ex-post validation and offering the possibility to undo merges. For more information check the <a href=\\\"https://colrev-environment.github.io/colrev/manual/metadata_retrieval/dedupe.html\\\">documentation</a>.</p>\n",
    "\n",
    "<p style=\"max-width: 800px; margin-left: 0; margin-right: 0; text-align: justify;\"><b>Notes:</b></p>\n",
    "\n",
    "<p style=\"max-width: 800px; margin-left: 0; margin-right: 0; text-align: justify;\">- At this point it may be a good idea to check the state of your CoLRev repository via `colrev status`</p>\n",
    "<p style=\"max-width: 800px; margin-left: 0; margin-right: 0; text-align: justify;\">- If you check the changes introduced by prep, you may recognize that local quality rules (specific to AIS content) were applied</p>\n",
    "<!-- - You can also use [litbaskets.io](https://litbaskets.io/) to search and use the Scopus export -->"
   ]
  },
  {
   "cell_type": "markdown",
   "id": "967cfad3",
   "metadata": {},
   "source": [
    "<p style=\"max-width: 800px; margin-left: 0; margin-right: 0; text-align: justify;\">To update the search, you can simply run the following command again (and again, ...):</p>"
   ]
  },
  {
   "cell_type": "code",
   "execution_count": null,
   "id": "ffaab460",
   "metadata": {},
   "outputs": [],
   "source": [
    "colrev search"
   ]
  },
  {
   "cell_type": "markdown",
   "id": "439a5860",
   "metadata": {},
   "source": [
    "# 3. Screen <a id=\"screen\"></a>\n",
    "\n",
    "<p style=\"max-width: 800px; margin-left: 0; margin-right: 0; text-align: justify;\">The metadata prescreen refers to the inclusion or exclusion of records based on titles and abstracts (if available).</p>"
   ]
  },
  {
   "cell_type": "code",
   "execution_count": null,
   "id": "366660cd",
   "metadata": {},
   "outputs": [],
   "source": [
    "colrev prescreen"
   ]
  },
  {
   "cell_type": "markdown",
   "id": "31c03229",
   "metadata": {},
   "source": [
    "<p style=\"max-width: 800px; margin-left: 0; margin-right: 0; text-align: justify;\">The main purpose of `colrev prescreen` is to reduce the number of records by excluding those that are clearly irrelevant to the review objectives. When in doubt, records can be retained (included provisionally) to decide in step 5, i.e., the screen based on full-text documents. For more information check the <a href=\\\"https://colrev-environment.github.io/colrev/manual/metadata_prescreen.html\\\">documentation</a>.</p>\n",
    "\n",
    "<p style=\"max-width: 800px; margin-left: 0; margin-right: 0; text-align: justify;\">Provide a short explanation of the prescreen and decide on inclusion/exclusion of each record based on the titles and abstracts displayed.</p>\n",
    "\n",
    "<p style=\"max-width: 800px; margin-left: 0; margin-right: 0; text-align: justify;\">The step of PDF retrieval refers to the activities to acquire PDF documents (or documents in other formats) as well as to ascertain or improve their quality.</p>"
   ]
  },
  {
   "cell_type": "code",
   "execution_count": null,
   "id": "e25b6ca5",
   "metadata": {},
   "outputs": [],
   "source": [
    "colrev pdfs"
   ]
  },
  {
   "cell_type": "markdown",
   "id": "5bfbcadc",
   "metadata": {},
   "source": [
    "<p style=\"max-width: 800px; margin-left: 0; margin-right: 0; text-align: justify;\">`colrev pdfs` ensures that PDF documents correspond to their associated metadata (no mismatches), that they are machine readable (OCR and semantically annotated), and that unnecessary materials (such as cover pages) are removed. For more information check the <a href=\\\"https://colrev-environment.github.io/colrev/manual/pdf_retrieval.html\\\">documentation</a>.</p>\n",
    "\n",
    "<p style=\"max-width: 800px; margin-left: 0; margin-right: 0; text-align: justify;\">You may need to collect some PDFs manually. For `colrev pdf-get-man` follow the instructions provided by `colrev` on the command line.</p>\n",
    "\n",
    "<p style=\"max-width: 800px; margin-left: 0; margin-right: 0; text-align: justify;\">You may also need to manually prepare some PDFs via `colrev pdf-prep-man`.</p>\n",
    "\n",
    "<p style=\"max-width: 800px; margin-left: 0; margin-right: 0; text-align: justify;\">The PDF screen refers to the final inclusion or exclusion of records based on PDF documents.</p>"
   ]
  },
  {
   "cell_type": "code",
   "execution_count": null,
   "id": "56548fcf",
   "metadata": {},
   "outputs": [],
   "source": [
    "colrev screen"
   ]
  },
  {
   "cell_type": "markdown",
   "id": "fc45543b",
   "metadata": {},
   "source": [
    "<p style=\"max-width: 800px; margin-left: 0; margin-right: 0; text-align: justify;\">In `colrev screen`, screening criteria, which can be inclusion or exclusion criteria, are a means to making these decisions more transparent (e.g., in a PRISMA flow chart). Records are only included when none of the criteria is violated. For more information check the  <a href=\\\"https://colrev-environment.github.io/colrev/manual/pdf_screen.html\\\">documentation</a>.</p>\n",
    "\n",
    "<p style=\"max-width: 800px; margin-left: 0; margin-right: 0; text-align: justify;\">Screening criteria can be added by providing a short name, defining an inclusion (i) or exclusion (e) criterion, and by providing a short explanation. After defining all screening criteria, each record will be screened against each criterion.</p>\n",
    "\n",
    "<p style=\"max-width: 800px; margin-left: 0; margin-right: 0; text-align: justify;\"><b>Notes:</b></p>\n",
    "\n",
    "<p style=\"max-width: 800px; margin-left: 0; margin-right: 0; text-align: justify;\">- Both prescreen and screen can be split to distribute the workload among multiple researchers</p>\n",
    "<p style=\"max-width: 800px; margin-left: 0; margin-right: 0; text-align: justify;\">- You can extract abstracts from the PDFs before the screen by running ``colrev screen --add_abstracts_from_tei``</p>"
   ]
  },
  {
   "cell_type": "markdown",
   "id": "40350128",
   "metadata": {},
   "source": [
    "# 4. Data <a id=\"data\"></a>\n",
    "\n",
    "<p style=\"max-width: 800px; margin-left: 0; margin-right: 0; text-align: justify;\">The last step corresponds to the data extraction, analysis and synthesis activities. Depending on the type of review, this step can involve very different activities and outcomes.</p>"
   ]
  },
  {
   "cell_type": "code",
   "execution_count": null,
   "id": "f21cfecf",
   "metadata": {},
   "outputs": [],
   "source": [
    "colrev data"
   ]
  },
  {
   "cell_type": "markdown",
   "id": "7120fbd4",
   "metadata": {},
   "source": [
    "<p style=\"max-width: 800px; margin-left: 0; margin-right: 0; text-align: justify;\">In the colrev data operation, records transition from `rev_included` to `rev_synthesized`. The data analysis and synthesis can involve different activities (data endpoints). For more information check the <a href=\\\"https://colrev-environment.github.io/colrev/manual/data/data.html\\\">documentation</a>.</p>"
   ]
  },
  {
   "cell_type": "markdown",
   "id": "7a561341",
   "metadata": {},
   "source": [
    "# 5. Bonus (Optional)  <a id=\"bonus\"></a>\n",
    "\n",
    "<p style=\"max-width: 800px; margin-left: 0; margin-right: 0; text-align: justify;\">1. Analyze how the change history of the review develops by navigating to the Versioning tab on the left, iterating through the commits (the Version history), and analyzing the file changes:</p>\n",
    "\n",
    "<img src=\"img/change-1.png\" style=\"max-width: 800px; border-radius: 5px;\">\n",
    "\n",
    "<p style=\"max-width: 800px; margin-left: 0; margin-right: 0; text-align: justify;\">2. The paper-md endpoint is added per default for most of the review types. It can be used to create a review protocol or a manuscript based on pandoc and csl citation styles.</p>\n",
    "\n",
    "<p style=\"max-width: 800px; margin-left: 0; margin-right: 0; text-align: justify;\">3. Add a PRISMA chart as our second data endpoint (if it is not already in the `settings.json`):</p>\n",
    "```\n",
    "colrev data --add colrev.prisma\n",
    "```\n",
    "\n",
    "<p style=\"max-width: 800px; margin-left: 0; margin-right: 0; text-align: justify;\">The prisma endpoint generates a PRISMA flow chart based on the current state of the review.</p>\n",
    "\n",
    "<p style=\"max-width: 800px; margin-left: 0; margin-right: 0; text-align: justify;\">4. Add a BiBTex export as our third data endpoint:</p>\n",
    "```\n",
    "colrev data --add colrev.bibliography_export\n",
    "```\n",
    "\n",
    "<p style=\"max-width: 800px; margin-left: 0; margin-right: 0; text-align: justify;\">The bibliography-export endpoint exports the records in different bibliographical formats, which can be useful when the team works with a particular reference manager.</p>\n",
    "\n",
    "<p style=\"max-width: 800px; margin-left: 0; margin-right: 0; text-align: justify;\">5. Update an existing search</p>\n",
    "<p style=\"max-width: 800px; margin-left: 0; margin-right: 0; text-align: justify;\">6. Conduct a backward search</p>\n",
    "\n",
    "<br>\n",
    "\n",
    "---"
   ]
  },
  {
   "cell_type": "markdown",
   "id": "0628bd39",
   "metadata": {},
   "source": [
    "## Wrap-up  <a id=\"wrap-up\"></a>\n",
    "\n",
    "🎉🎈 You have completed the CoLRev Tutorial - good work! 🎈🎉\n",
    "\n",
    "To use CoLRev for literature review projects, we recommend a local setup.\n",
    "\n",
    "<!--\n",
    "\n",
    "In this notebook, we have learned to\n",
    "\n",
    "- Clone a repository and check the `git status`\n",
    "- Create, stage, and commit changes using `git add`, `git commit` and `git restore`\n",
    "- Create atomic commits\n",
    "- Undo changes\n",
    "- Navigate Visualstudio Code on GitHub Codespaces\n",
    "\n",
    "Remember to delete your codespace [here](https://github.com/codespaces) (see [instructions](codespaces.ipynb)).\n",
    "\n",
    "-->"
   ]
  }
 ],
 "metadata": {
  "kernelspec": {
   "display_name": "Python 3 (ipykernel)",
   "language": "python",
   "name": "python3"
  },
  "language_info": {
   "codemirror_mode": {
    "name": "ipython",
    "version": 3
   },
   "file_extension": ".py",
   "mimetype": "text/x-python",
   "name": "python",
   "nbconvert_exporter": "python",
   "pygments_lexer": "ipython3",
   "version": "3.12.7"
  }
 },
 "nbformat": 4,
 "nbformat_minor": 5
}
