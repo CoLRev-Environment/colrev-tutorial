{
 "cells": [
  {
   "cell_type": "markdown",
   "id": "0ff7b136",
   "metadata": {},
   "source": [
    "# CoLRev Tutorial\n",
    "\n",
    "[![Offered by: Digital Work at Otto-Friedrich-Universität Bamberg](https://img.shields.io/badge/Offered%20by-%20Digital%20Work%20(Otto--Friedrich--Universit%C3%A4t%20Bamberg)-blue)](https://digital-work-lab.github.io/open-source-project/)\n",
    "![License: CC BY 4.0](https://img.shields.io/badge/License-CC%20BY%204.0-green.svg)\n",
    "\n",
    "We  <img src=\"img/iconmonstr-favorite-2.svg\" alt=\"Edit\" width=\"12\" height=\"12\">  your <a href=\"https://github.com/CoLRev-Environment/colrev-tutorial/issues/new/choose\" target=\"_blank\">feedback</a> and <a href=\"https://github.com/CoLRev-Environment/colrev-tutorial/issues/edit/main/.devcontainer/tutorial.ipynb\" target=\"_blank\">suggestions</a> on this notebook!\n",
    "\n",
    "---"
   ]
  },
  {
   "cell_type": "markdown",
   "id": "73e5334c",
   "metadata": {},
   "source": [
    "The goal of this repository on GitHub codespaces is to demonstrate the CoLRev workflow.\n",
    "\n",
    "\n",
    "| Part | Label                         | Time (min) |\n",
    "|------|-------------------------------| ---------- |\n",
    "|  1   | [Init](#init)                 | 5          |\n",
    "|  2   | [Search](#search)             | 15         |\n",
    "|  3   | [Screen](#screen)             | 15         |\n",
    "|  4   | [Data](#data)                 | 10         |\n",
    "|  5   | [Bonus](#bonus)               |            |\n",
    "|     | Overall                        | 45         |\n",
    "\n",
    "<br>\n",
    "\n",
    "---"
   ]
  },
  {
   "cell_type": "markdown",
   "id": "01092277",
   "metadata": {},
   "source": [
    "<div style=\"border: 2px solid #ff9800; padding: 10px; background-color: #ffe0b2; color: #e65100; border-radius: 5px; display: inline-block; max-width: 850px; width: 100%;\">\n",
    "    <strong>Important:</strong> Please run all of the following commands in the shell as shown in the screenshot.\n",
    "    <div style=\"clear: both;\"></div>\n",
    "    <img src=\"img/codespace_shell.png\" style=\"max-width: 100%; border-radius: 5px;\">\n",
    "</div>\n"
   ]
  },
  {
   "cell_type": "markdown",
   "id": "e21c485c",
   "metadata": {},
   "source": [
    "# Installation\n",
    "\n",
    "CoLRev is pre-installed, but CoLRev packages must be installed:"
   ]
  },
  {
   "cell_type": "code",
   "execution_count": null,
   "id": "992e50c8",
   "metadata": {},
   "outputs": [],
   "source": [
    "colrev install all_internal_packages"
   ]
  },
  {
   "cell_type": "markdown",
   "id": "e92de243",
   "metadata": {},
   "source": [
    "<details><summary {style='color:green;font-weight:bold'}>Check</summary>\n",
    "\n",
    "**Running the installation should look like this:**\n",
    "\n",
    "<img src=\"img/install_packages.gif\" style=\"width: 1000px;\" alt=\"Demo\"/>\n",
    "\n",
    "</details>"
   ]
  },
  {
   "cell_type": "markdown",
   "id": "8e210c13",
   "metadata": {},
   "source": [
    "Before creating a new CoLRev project, we need an empty directory:"
   ]
  },
  {
   "cell_type": "code",
   "execution_count": null,
   "id": "842c2bf0",
   "metadata": {},
   "outputs": [],
   "source": [
    "rm README.md"
   ]
  },
  {
   "cell_type": "markdown",
   "id": "abdf3565",
   "metadata": {},
   "source": [
    "# 1. Init <a id=\"init\"></a>\n",
    "\n",
    "To get started, simply type `colrev init` on the command line and press `Enter`"
   ]
  },
  {
   "cell_type": "code",
   "execution_count": null,
   "id": "65635a25",
   "metadata": {},
   "outputs": [],
   "source": [
    "colrev init"
   ]
  },
  {
   "cell_type": "markdown",
   "id": "b3b33c1f",
   "metadata": {},
   "source": [
    "`colrev init` initializes a new CoLRev project. With this operation, the directories and files, including the git history, are set up. For more information check the [documentation](https://colrev.readthedocs.io/en/latest/manual/problem_formulation/init.html).\n",
    "\n",
    "**Notes:**\n",
    "\n",
    "- Check out the folder scaffold being created on the left\n",
    "- You can specify a particular [review type](https://colrev.readthedocs.io/en/latest/manual/problem_formulation/init.html) by running `colrev init --type REVIEW_TYPE`\n",
    "- When starting the project, it is good practice to use the `data/data/paper.md` as a protocol\n",
    "- You can always add `--help` to the following commands to display more information (e.g., `colrev init --help`).\n",
    "\n",
    "It is good practice to run `colrev status` regularly to assess the current progress of the review and  identify the next steps:"
   ]
  },
  {
   "cell_type": "code",
   "execution_count": null,
   "id": "9ff157d0",
   "metadata": {},
   "outputs": [],
   "source": [
    "colrev status"
   ]
  },
  {
   "cell_type": "markdown",
   "id": "cd294dff",
   "metadata": {},
   "source": [
    "# 2. Search <a id=\"search\"></a>\n",
    "\n",
    "To add records the `colrev search` command can be used."
   ]
  },
  {
   "cell_type": "code",
   "execution_count": null,
   "id": "ec0ad278",
   "metadata": {},
   "outputs": [],
   "source": [
    "colrev search --add"
   ]
  },
  {
   "cell_type": "markdown",
   "id": "ae5d9d63",
   "metadata": {},
   "source": [
    "Use `colrev search --add` to add searches of the **Crossref** API and the **DBLP** API, using the search term `microsourcing`.\n",
    "\n",
    "<!-- \n",
    "`colrev search --add` adds a SearchSource to the project settings and record metadata are retrieved. SearchSources keep track of the associated queries, as well as the search results files. CoLRev includes serveral types of SearchSources such as, for example, traditional database searches, API-based searches, or backward and forward searches. For more information check the [documentation](https://colrev.readthedocs.io/en/latest/manual/metadata_retrieval/search.html).\n",
    "\n",
    "1. Add ACM Digital Library as our first search source:\n",
    "```\n",
    "colrev search --add colrev.acm_digital_library\n",
    "```\n",
    "\n",
    "ACM Digital Library can only be searched manually via a database search. Follow the instructions provided or go to the [search](https://dl.acm.org/action/doSearch?fillQuickSearch=false&target=advanced&expand=all&AllField=Title%3A%28microsourcing%29+OR+Abstract%3A%28microsourcing%29+OR+Keyword%3A%28microsourcing%29), select all records, click export, save the search query in `data/search/acm_digital_library_query.txt`, upload the export to `data/search/acm_digital_library.bib`, and press `Enter`.\n",
    "\n",
    "2. Add AIS library as our second search source:\n",
    "\n",
    "```\n",
    "colrev search --add colrev.ais_library\n",
    "```\n",
    "\n",
    "Select SearchType API and paste the following as the search query to search for microsourcing in titles, abstracts, and keywords: `title:microsourcing OR abstract:microsourcing OR subject:microsourcing`\n",
    "-->\n",
    "\n",
    "After the search, continue with the following commands:"
   ]
  },
  {
   "cell_type": "code",
   "execution_count": null,
   "id": "cb3cd8f1",
   "metadata": {},
   "outputs": [],
   "source": [
    "colrev load\n",
    "colrev prep\n",
    "colrev dedupe"
   ]
  },
  {
   "cell_type": "markdown",
   "id": "b484149c",
   "metadata": {},
   "source": [
    "- In the `colrev load` operation, search results are added to the main records. Records from the search result files are identified based on unique origin IDs and added to the main records file (`data/records.bib`). For more information check the [documentation](https://colrev.readthedocs.io/en/latest/manual/metadata_retrieval/load.html).\n",
    "- In the `colrev prep` operation, metadata quality of records is improved. Preparation procedures include general formatting rules, SearchSource-specific fixes, and cross-checks with metadata repositories and curated CoLRev repositories. For more information check the [documentation](https://colrev.readthedocs.io/en/latest/manual/metadata_retrieval/prep.html).\n",
    "- In the `colrev dedupe` operation, duplicate records are identified and merged. The predecessors of a merged record can be identified through the colrev_origin list field in `data/records.bib`, enabling ex-post validation and offering the possibility to undo merges. For more information check the [documentation](https://colrev.readthedocs.io/en/latest/manual/metadata_retrieval/dedupe.html).\n",
    "\n",
    "**Notes:**\n",
    "\n",
    "- At this point it may be a good idea to check the state of your CoLRev repository via `colrev status`\n",
    "- If you check the changes introduced by prep, you may recognize that local quality rules (specific to AIS content) were applied\n",
    "<!-- - You can also use [litbaskets.io](https://litbaskets.io/) to search and use the Scopus export -->"
   ]
  },
  {
   "cell_type": "markdown",
   "id": "967cfad3",
   "metadata": {},
   "source": [
    "To update the search, you can simply run the following command again (and again, ...):"
   ]
  },
  {
   "cell_type": "code",
   "execution_count": null,
   "id": "ffaab460",
   "metadata": {},
   "outputs": [],
   "source": [
    "colrev search"
   ]
  },
  {
   "cell_type": "markdown",
   "id": "439a5860",
   "metadata": {},
   "source": [
    "# 3. Screen <a id=\"screen\"></a>\n",
    "\n",
    "The metadata prescreen refers to the inclusion or exclusion of records based on titles and abstracts (if available)."
   ]
  },
  {
   "cell_type": "code",
   "execution_count": null,
   "id": "366660cd",
   "metadata": {},
   "outputs": [],
   "source": [
    "colrev prescreen"
   ]
  },
  {
   "cell_type": "markdown",
   "id": "31c03229",
   "metadata": {},
   "source": [
    "The main purpose of `colrev prescreen` is to reduce the number of records by excluding those that are clearly irrelevant to the review objectives. When in doubt, records can be retained (included provisionally) to decide in step 5, i.e., the screen based on full-text documents. For more information check the [documentation](https://colrev.readthedocs.io/en/latest/manual/metadata_prescreen.html).\n",
    "\n",
    "Provide a short explanation of the prescreen and decide on inclusion/exclusion of each record based on the titles and abstracts displayed.\n",
    "\n",
    "The step of PDF retrieval refers to the activities to acquire PDF documents (or documents in other formats) as well as to ascertain or improve their quality."
   ]
  },
  {
   "cell_type": "code",
   "execution_count": null,
   "id": "e25b6ca5",
   "metadata": {},
   "outputs": [],
   "source": [
    "colrev pdfs"
   ]
  },
  {
   "cell_type": "markdown",
   "id": "5bfbcadc",
   "metadata": {},
   "source": [
    "`colrev pdfs` ensures that PDF documents correspond to their associated metadata (no mismatches), that they are machine readable (OCR and semantically annotated), and that unnecessary materials (such as cover pages) are removed. For more information check the [documentation](https://colrev.readthedocs.io/en/latest/manual/pdf_retrieval.html).\n",
    "\n",
    "You may need to collect some PDFs manually. For `colrev pdf-get-man` follow the instructions provided by `colrev` on the command line.\n",
    "\n",
    "You may also need to manually prepare some PDFs via `colrev pdf-prep-man`.\n",
    "\n",
    "The PDF screen refers to the final inclusion or exclusion of records based on PDF documents."
   ]
  },
  {
   "cell_type": "code",
   "execution_count": null,
   "id": "56548fcf",
   "metadata": {},
   "outputs": [],
   "source": [
    "colrev screen"
   ]
  },
  {
   "cell_type": "markdown",
   "id": "fc45543b",
   "metadata": {},
   "source": [
    "In `colrev screen`, screening criteria, which can be inclusion or exclusion criteria, are a means to making these decisions more transparent (e.g., in a PRISMA flow chart). Records are only included when none of the criteria is violated. For more information check the [documentation](https://colrev.readthedocs.io/en/latest/manual/pdf_screen.html).\n",
    "\n",
    "Screening criteria can be added by providing a short name, defining an inclusion (i) or exclusion (e) criterion, and by providing a short explanation. After defining all screening criteria, each record will be screened against each criterion.\n",
    "\n",
    "**Notes:**\n",
    "\n",
    "- Both prescreen and screen can be split to distribute the workload among multiple researchers\n",
    "- You can extract abstracts from the PDFs before the screen by running ``colrev screen --add_abstracts_from_tei``"
   ]
  },
  {
   "cell_type": "markdown",
   "id": "40350128",
   "metadata": {},
   "source": [
    "# 4. Data <a id=\"data\"></a>\n",
    "\n",
    "The last step corresponds to the data extraction, analysis and synthesis activities. Depending on the type of review, this step can involve very different activities and outcomes."
   ]
  },
  {
   "cell_type": "code",
   "execution_count": null,
   "id": "f21cfecf",
   "metadata": {},
   "outputs": [],
   "source": [
    "colrev data"
   ]
  },
  {
   "cell_type": "markdown",
   "id": "7120fbd4",
   "metadata": {},
   "source": [
    "In the colrev data operation, records transition from `rev_included` to `rev_synthesized`. The data analysis and synthesis can involve different activities (data endpoints). For more information check the [documentation](https://colrev.readthedocs.io/en/latest/manual/data/data.html).\n",
    "\n",
    "1. The paper-md endpoint is added per default for most of the review types. It can be used to create a review protocol or a manuscript based on pandoc and csl citation styles.\n",
    "\n",
    "2. Add a PRISMA chart as our second data endpoint (if it is not already in the [settings](/settings.json)):\n",
    "```\n",
    "colrev data --add colrev.prisma\n",
    "```\n",
    "\n",
    "The prisma endpoint generates a PRISMA flow chart based on the current state of the review.\n",
    "\n",
    "3. Add a BiBTex export as our third data endpoint:\n",
    "```\n",
    "colrev data --add colrev.bibliography_export\n",
    "```\n",
    "\n",
    "The bibliography-export endpoint exports the records in different bibliographical formats, which can be useful when the team works with a particular reference manager."
   ]
  },
  {
   "cell_type": "markdown",
   "id": "7a561341",
   "metadata": {},
   "source": [
    "# 5. Bonus Operations (Optional)  <a id=\"bonus\"></a>\n",
    "\n",
    "1. Update an existing search\n",
    "2. Conduct a backward search\n",
    "\n",
    "<br>\n",
    "\n",
    "---"
   ]
  },
  {
   "cell_type": "markdown",
   "id": "0628bd39",
   "metadata": {},
   "source": [
    "## Wrap-up  <a id=\"wrap-up\"></a>\n",
    "\n",
    "🎉🎈 You have completed the CoLRev Tutorial - good work! 🎈🎉\n",
    "\n",
    "To use CoLRev for literature review projects, we recommend a local setup.\n",
    "\n",
    "<!--\n",
    "\n",
    "In this notebook, we have learned to\n",
    "\n",
    "- Clone a repository and check the `git status`\n",
    "- Create, stage, and commit changes using `git add`, `git commit` and `git restore`\n",
    "- Create atomic commits\n",
    "- Undo changes\n",
    "- Navigate Visualstudio Code on GitHub Codespaces\n",
    "\n",
    "Remember to delete your codespace [here](https://github.com/codespaces) (see [instructions](codespaces.ipynb)).\n",
    "\n",
    "-->"
   ]
  }
 ],
 "metadata": {
  "kernelspec": {
   "display_name": "Python 3 (ipykernel)",
   "language": "python",
   "name": "python3"
  },
  "language_info": {
   "codemirror_mode": {
    "name": "ipython",
    "version": 3
   },
   "file_extension": ".py",
   "mimetype": "text/x-python",
   "name": "python",
   "nbconvert_exporter": "python",
   "pygments_lexer": "ipython3",
   "version": "3.12.7"
  }
 },
 "nbformat": 4,
 "nbformat_minor": 5
}
